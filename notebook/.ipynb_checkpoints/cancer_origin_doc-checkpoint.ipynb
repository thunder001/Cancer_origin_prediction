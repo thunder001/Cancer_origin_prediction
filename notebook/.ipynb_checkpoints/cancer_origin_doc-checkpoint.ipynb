{
 "cells": [
  {
   "cell_type": "markdown",
   "metadata": {
    "slideshow": {
     "slide_type": "-"
    }
   },
   "source": [
    "# Deep Neuron Network-based Cancer Origin Classifier\n",
    "\n",
    "--- \n",
    "\n",
    "***Chunlei Zheng, Rong Xu***\n",
    "\n",
    "**7-7-2019**\n",
    "\n",
    "----\n"
   ]
  },
  {
   "cell_type": "markdown",
   "metadata": {
    "toc": true
   },
   "source": [
    "<h1>Table of Contents<span class=\"tocSkip\"></span></h1>\n",
    "<div class=\"toc\"><ul class=\"toc-item\"><li><span><a href=\"#1-Project-Description\" data-toc-modified-id=\"1-Project-Description-1\">1 Project Description</a></span></li><li><span><a href=\"#2-Requirement-for-reproducing-this-project\" data-toc-modified-id=\"2-Requirement-for-reproducing-this-project-2\">2 Requirement for reproducing this project</a></span></li><li><span><a href=\"#3--Cancer-origin-classifier\" data-toc-modified-id=\"3--Cancer-origin-classifier-3\">3  Cancer origin classifier</a></span><ul class=\"toc-item\"><li><span><a href=\"#3.1-Import-required-packages-and-modules\" data-toc-modified-id=\"3.1-Import-required-packages-and-modules-3.1\">3.1 Import required packages and modules</a></span></li><li><span><a href=\"#3.2--Make-project-structure\" data-toc-modified-id=\"3.2--Make-project-structure-3.2\">3.2  Make project structure</a></span></li><li><span><a href=\"#3.3-Data-preparation\" data-toc-modified-id=\"3.3-Data-preparation-3.3\">3.3 Data preparation</a></span><ul class=\"toc-item\"><li><span><a href=\"#3.3.1-Train,-dev,-and-test-data-preparation\" data-toc-modified-id=\"3.3.1-Train,-dev,-and-test-data-preparation-3.3.1\">3.3.1 Train, dev, and test data preparation</a></span></li><li><span><a href=\"#3.3.2-Cross-validation-(10x)-data-preparatiion\" data-toc-modified-id=\"3.3.2-Cross-validation-(10x)-data-preparatiion-3.3.2\">3.3.2 Cross validation (10x) data preparatiion</a></span></li><li><span><a href=\"#3.3.3-Metastatic-data-from-TCGA\" data-toc-modified-id=\"3.3.3-Metastatic-data-from-TCGA-3.3.3\">3.3.3 Metastatic data from TCGA</a></span></li><li><span><a href=\"#3.3.4-Test-data-from-GEO\" data-toc-modified-id=\"3.3.4-Test-data-from-GEO-3.3.4\">3.3.4 Test data from GEO</a></span></li></ul></li><li><span><a href=\"#3.4-Build-DNN-model\" data-toc-modified-id=\"3.4-Build-DNN-model-3.4\">3.4 Build DNN model</a></span><ul class=\"toc-item\"><li><span><a href=\"#3.4.1-Model-training-example\" data-toc-modified-id=\"3.4.1-Model-training-example-3.4.1\">3.4.1 Model training example</a></span></li><li><span><a href=\"#3.4.2-Model-selection\" data-toc-modified-id=\"3.4.2-Model-selection-3.4.2\">3.4.2 Model selection</a></span></li></ul></li><li><span><a href=\"#3.5-Evaluate-DNN-model\" data-toc-modified-id=\"3.5-Evaluate-DNN-model-3.5\">3.5 Evaluate DNN model</a></span><ul class=\"toc-item\"><li><span><a href=\"#3.5.1-Cross-validation-(10x)\" data-toc-modified-id=\"3.5.1-Cross-validation-(10x)-3.5.1\">3.5.1 Cross validation (10x)</a></span></li><li><span><a href=\"#3.5.2-Test-set-from-TCGA\" data-toc-modified-id=\"3.5.2-Test-set-from-TCGA-3.5.2\">3.5.2 Test set from TCGA</a></span><ul class=\"toc-item\"><li><span><a href=\"#3.5.2.1-Get-prediction-results\" data-toc-modified-id=\"3.5.2.1-Get-prediction-results-3.5.2.1\">3.5.2.1 Get prediction results</a></span></li><li><span><a href=\"#3.5.2.2--Display-evaluation-metrics\" data-toc-modified-id=\"3.5.2.2--Display-evaluation-metrics-3.5.2.2\">3.5.2.2  Display evaluation metrics</a></span></li><li><span><a href=\"#3.5.2.3-Plot-ROC-curve\" data-toc-modified-id=\"3.5.2.3-Plot-ROC-curve-3.5.2.3\">3.5.2.3 Plot ROC curve</a></span></li><li><span><a href=\"#3.5.2.4-Save-results-to-files-(don't-run)\" data-toc-modified-id=\"3.5.2.4-Save-results-to-files-(don't-run)-3.5.2.4\">3.5.2.4 Save results to files (don't run)</a></span></li></ul></li><li><span><a href=\"#3.5.3-Metastatic-data-from-TCGA\" data-toc-modified-id=\"3.5.3-Metastatic-data-from-TCGA-3.5.3\">3.5.3 Metastatic data from TCGA</a></span><ul class=\"toc-item\"><li><span><a href=\"#3.5.3.1-Get-prediction-results\" data-toc-modified-id=\"3.5.3.1-Get-prediction-results-3.5.3.1\">3.5.3.1 Get prediction results</a></span></li><li><span><a href=\"#3.5.3.2--Display-evaluation-metrics\" data-toc-modified-id=\"3.5.3.2--Display-evaluation-metrics-3.5.3.2\">3.5.3.2  Display evaluation metrics</a></span></li><li><span><a href=\"#3.5.3.3-Plot-ROC-curve\" data-toc-modified-id=\"3.5.3.3-Plot-ROC-curve-3.5.3.3\">3.5.3.3 Plot ROC curve</a></span></li><li><span><a href=\"#3.5.3.4-Save-results-to-files-(don't-run)\" data-toc-modified-id=\"3.5.3.4-Save-results-to-files-(don't-run)-3.5.3.4\">3.5.3.4 Save results to files (don't run)</a></span></li></ul></li><li><span><a href=\"#3.5.4-Test-data-from-GEO\" data-toc-modified-id=\"3.5.4-Test-data-from-GEO-3.5.4\">3.5.4 Test data from GEO</a></span><ul class=\"toc-item\"><li><span><a href=\"#3.5.4.1-Get-prediction-results\" data-toc-modified-id=\"3.5.4.1-Get-prediction-results-3.5.4.1\">3.5.4.1 Get prediction results</a></span></li><li><span><a href=\"#3.5.4.2--Display-evaluation-metrics\" data-toc-modified-id=\"3.5.4.2--Display-evaluation-metrics-3.5.4.2\">3.5.4.2  Display evaluation metrics</a></span></li><li><span><a href=\"#3.5.4.3-Plot-ROC-curve\" data-toc-modified-id=\"3.5.4.3-Plot-ROC-curve-3.5.4.3\">3.5.4.3 Plot ROC curve</a></span></li><li><span><a href=\"#3.5.2.4-Save-results-to-files-(don't-run)\" data-toc-modified-id=\"3.5.2.4-Save-results-to-files-(don't-run)-3.5.4.4\">3.5.2.4 Save results to files (don't run)</a></span></li></ul></li></ul></li></ul></li></ul></div>"
   ]
  },
  {
   "cell_type": "markdown",
   "metadata": {},
   "source": [
    "## 1 Project Description"
   ]
  },
  {
   "cell_type": "markdown",
   "metadata": {},
   "source": [
    "Identification of cancer tissue of origin is a routine in clinical practice in oncology. This is typically carried out with immunohistochemistry panels on the tumor specimen and imaging tests. Some cancer origins are easy to be determined and others are very difficult, especially for metastatic and un-differentially cancer. Accumulative evidence indicates that site-specific treatments improve patient outcomes. However, pathologic-based procedures need considerable resources, time, and expense. In addition, it can only achieve 66-88% of accuracy in metastatic cancer. Existing gene expression- or microRNA-based techniques also have limited performance.\n",
    "\n",
    "We developed a deep neuron network (DNN)-based tissue of origin classifier using DNA methylation data of 7,339 patients from The Cancer Genome Atlas (TCGA) that cover 18 different cancer origins."
   ]
  },
  {
   "cell_type": "markdown",
   "metadata": {},
   "source": [
    "## 2 Requirement for reproducing this project\n",
    "To reproduce this project, we recommend to follow following steps:\n",
    "1. Create an enviroment using given cancer_origin_model.yml file\n",
    "2. Launch jupyter notebook\n",
    "3. Choose jupyter kernel in that enviroment\n",
    "4. Follow the below procedures"
   ]
  },
  {
   "cell_type": "markdown",
   "metadata": {},
   "source": [
    "## 3  Cancer origin classifier"
   ]
  },
  {
   "cell_type": "code",
   "execution_count": 15,
   "metadata": {},
   "outputs": [
    {
     "name": "stdout",
     "output_type": "stream",
     "text": [
      "The autoreload extension is already loaded. To reload it, use:\n",
      "  %reload_ext autoreload\n"
     ]
    }
   ],
   "source": [
    "%load_ext autoreload\n",
    "%autoreload 2\n",
    "%matplotlib inline"
   ]
  },
  {
   "cell_type": "markdown",
   "metadata": {},
   "source": [
    "### 3.1 Import required packages and modules"
   ]
  },
  {
   "cell_type": "code",
   "execution_count": 17,
   "metadata": {
    "scrolled": false
   },
   "outputs": [],
   "source": [
    "# import required modules\n",
    "import sys\n",
    "sys.path.append(\"../src/data\")\n",
    "sys.path.append(\"../src/model\")\n",
    "\n",
    "import os\n",
    "import warnings\n",
    "warnings.filterwarnings(\"ignore\")\n",
    "import argparse\n",
    "from collections import OrderedDict\n",
    "\n",
    "import numpy as np\n",
    "import pandas as pd\n",
    "import time\n",
    "import scipy as sp\n",
    "import scipy.stats\n",
    "from sklearn.metrics import precision_recall_curve, average_precision_score, confusion_matrix\n",
    "import tensorflow as tf\n",
    "import matplotlib\n",
    "import matplotlib.pyplot as plt\n",
    "from shutil import copy\n",
    "\n",
    "\n",
    "# self modules\n",
    "from data import Data \n",
    "from DNN_model import DNN_model\n",
    "from model_training import ModelTraining\n",
    "from model_evaluation import ModelEval\n",
    "from model_testing import run_testing\n",
    "from model_selection import run_model_selection\n",
    "from plots import plot_auc\n",
    "\n"
   ]
  },
  {
   "cell_type": "markdown",
   "metadata": {},
   "source": [
    "### 3.2  Make project structure"
   ]
  },
  {
   "cell_type": "code",
   "execution_count": 18,
   "metadata": {},
   "outputs": [],
   "source": [
    "# data folder\n",
    "DATA_RAW = '../data/raw/'\n",
    "DATA_TRAIN_DEV_TEST = '../data/train_dev_test/'\n",
    "DATA_METASTATIC = '../data/metastatic/'\n",
    "DATA_GEO = '../data/GEO/'\n",
    "DATA_CV = '../data/CV/'\n",
    "\n",
    "# model folder\n",
    "MODELS = '../DNN_model/'\n",
    "\n",
    "# figure folder\n",
    "FIGURE = '../figures/'\n",
    "\n",
    "# result folder\n",
    "RESULTS = '../results/'\n",
    "\n",
    "# create folders\n",
    "folders = [DATA_TRAIN_DEV_TEST, DATA_METASTATIC, DATA_GEO, DATA_CV, MODELS, RESULTS]\n",
    "for folder in folders:\n",
    "    if not os.path.exists(folder):\n",
    "        os.mkdir(folder)\n"
   ]
  },
  {
   "cell_type": "markdown",
   "metadata": {},
   "source": [
    "### 3.3 Data preparation"
   ]
  },
  {
   "cell_type": "markdown",
   "metadata": {},
   "source": [
    "#### 3.3.1 Train, dev, and test data preparation"
   ]
  },
  {
   "cell_type": "code",
   "execution_count": 10,
   "metadata": {},
   "outputs": [],
   "source": [
    "inputfile = DATA_RAW + \"all_labeled_data1.csv\"\n",
    "inputfile_meta = DATA_RAW + \"all_labeled_data1_meta.csv\"\n",
    "num_of_case = 100\n",
    "outdir = DATA_TRAIN_DEV_TEST\n",
    "# Data.train_dev_test_prep(inputfile, inputmetafile, num_of_case, outdir)"
   ]
  },
  {
   "cell_type": "markdown",
   "metadata": {},
   "source": [
    "<p align=\"center\">\n",
    "  <img src=\"../figures/data.jpg\" width=\"800\">\n",
    "</p>"
   ]
  },
  {
   "cell_type": "markdown",
   "metadata": {},
   "source": [
    "#### 3.3.2 Cross validation (10x) data preparatiion"
   ]
  },
  {
   "cell_type": "code",
   "execution_count": 11,
   "metadata": {},
   "outputs": [],
   "source": [
    "datafile = DATA_TRAIN_DEV_TEST + \"train1.csv\" \n",
    "outdir = DATA_CV\n",
    "n_fold = 10\n",
    "# Data.CV_prep(datafile, outdir, n_fold)"
   ]
  },
  {
   "cell_type": "markdown",
   "metadata": {},
   "source": [
    "#### 3.3.3 Metastatic data from TCGA"
   ]
  },
  {
   "cell_type": "code",
   "execution_count": 12,
   "metadata": {},
   "outputs": [],
   "source": [
    "datafile = DATA_RAW + 'metastatic_data1.csv'\n",
    "metadatafile = DATA_RAW + 'metastatic_data1_meta.csv'\n",
    "codesfile = DATA_TRAIN_DEV_TEST + 'code.csv'\n",
    "featurefile = DATA_TRAIN_DEV_TEST + 'features.txt' \n",
    "outdir = DATA_METASTATIC\n",
    "# Data.test_prep(datafile, metadatafile, codesfile, featurefile, outdir)"
   ]
  },
  {
   "cell_type": "markdown",
   "metadata": {},
   "source": [
    "#### 3.3.4 Test data from GEO"
   ]
  },
  {
   "cell_type": "code",
   "execution_count": 13,
   "metadata": {},
   "outputs": [],
   "source": [
    "datafile = DATA_RAW + 'GEO_combined_final.csv'\n",
    "metadatafile = DATA_RAW + 'GEO_combined_final_meta.csv'\n",
    "codesfile = DATA_TRAIN_DEV_TEST + 'code.csv'\n",
    "featurefile = DATA_TRAIN_DEV_TEST + 'features.txt'\n",
    "outdir = DATA_GEO\n",
    "# Data. test_prep(datafile, metadatafile, codesfile, featurefile, outdir)"
   ]
  },
  {
   "cell_type": "markdown",
   "metadata": {},
   "source": [
    "### 3.4 Build DNN model"
   ]
  },
  {
   "cell_type": "markdown",
   "metadata": {},
   "source": [
    "#### 3.4.1 Model training example"
   ]
  },
  {
   "cell_type": "code",
   "execution_count": 14,
   "metadata": {},
   "outputs": [
    {
     "name": "stdout",
     "output_type": "stream",
     "text": [
      "Shape of features: (128, 10360)\n",
      "Shape of label: (128,)\n",
      "Step 0: loss = 3.19; accuracy = 0.0469 (0.068 sec)\n",
      "Step 100: loss = 0.53; accuracy = 0.9062 (0.032 sec)\n",
      "Step 200: loss = 0.16; accuracy = 0.9453 (0.034 sec)\n",
      "Step 300: loss = 0.13; accuracy = 0.9531 (0.035 sec)\n",
      "Step 400: loss = 0.09; accuracy = 0.9609 (0.033 sec)\n",
      "Step 500: loss = 0.09; accuracy = 0.9688 (0.040 sec)\n",
      "Step 600: loss = 0.06; accuracy = 0.9844 (0.033 sec)\n",
      "Step 700: loss = 0.08; accuracy = 0.9922 (0.029 sec)\n",
      "Step 800: loss = 0.06; accuracy = 0.9922 (0.031 sec)\n",
      "Step 900: loss = 0.02; accuracy = 0.9922 (0.034 sec)\n",
      "Step 1000: loss = 0.02; accuracy = 0.9844 (0.031 sec)\n",
      "Done training for 30 epochs, 1019 steps.\n"
     ]
    }
   ],
   "source": [
    "trainfile = DATA_TRAIN_DEV_TEST + 'train1.tfrecords'\n",
    "unit = 64\n",
    "modelfile = MODELS + 'train_model/train.ckpt'\n",
    "train = ModelTraining()\n",
    "train.run_training(trainfile, unit, modelfile)"
   ]
  },
  {
   "cell_type": "markdown",
   "metadata": {},
   "source": [
    "#### 3.4.2 Model selection"
   ]
  },
  {
   "cell_type": "code",
   "execution_count": 75,
   "metadata": {},
   "outputs": [
    {
     "name": "stdout",
     "output_type": "stream",
     "text": [
      "\n",
      "Running training 1 of 3 ...\n",
      "Unit of hidden layer: 32\n",
      "Shape of features: (128, 10360)\n",
      "Shape of label: (128,)\n",
      "Step 0: loss = 2.92; accuracy = 0.0469 (0.061 sec)\n",
      "Step 100: loss = 1.08; accuracy = 0.7734 (0.029 sec)\n",
      "Step 200: loss = 0.47; accuracy = 0.9219 (0.029 sec)\n",
      "Step 300: loss = 0.31; accuracy = 0.9688 (0.027 sec)\n",
      "Step 400: loss = 0.29; accuracy = 0.9375 (0.029 sec)\n",
      "Step 500: loss = 0.19; accuracy = 0.9453 (0.028 sec)\n",
      "Step 600: loss = 0.20; accuracy = 0.9766 (0.028 sec)\n",
      "Step 700: loss = 0.11; accuracy = 0.9688 (0.028 sec)\n",
      "Step 800: loss = 0.09; accuracy = 0.9531 (0.027 sec)\n",
      "Step 900: loss = 0.08; accuracy = 0.9609 (0.030 sec)\n",
      "Step 1000: loss = 0.11; accuracy = 0.9141 (0.029 sec)\n",
      "Done training for 30 epochs, 1019 steps.\n",
      "INFO:tensorflow:Restoring parameters from ./DNN_model/models/model_0.ckpt\n",
      "Iteration: 1\n",
      "Testing done!\n",
      "Accuracy: 0.9489100575447083\n",
      "\n",
      "Running training 2 of 3 ...\n",
      "Unit of hidden layer: 64\n",
      "Shape of features: (128, 10360)\n",
      "Shape of label: (128,)\n",
      "Step 0: loss = 3.19; accuracy = 0.0469 (0.058 sec)\n",
      "Step 100: loss = 0.53; accuracy = 0.9062 (0.032 sec)\n",
      "Step 200: loss = 0.16; accuracy = 0.9453 (0.030 sec)\n",
      "Step 300: loss = 0.13; accuracy = 0.9531 (0.033 sec)\n",
      "Step 400: loss = 0.09; accuracy = 0.9609 (0.032 sec)\n",
      "Step 500: loss = 0.09; accuracy = 0.9688 (0.032 sec)\n",
      "Step 600: loss = 0.06; accuracy = 0.9844 (0.031 sec)\n",
      "Step 700: loss = 0.08; accuracy = 0.9922 (0.032 sec)\n",
      "Step 800: loss = 0.06; accuracy = 0.9922 (0.033 sec)\n",
      "Step 900: loss = 0.02; accuracy = 0.9922 (0.032 sec)\n",
      "Step 1000: loss = 0.02; accuracy = 0.9844 (0.030 sec)\n",
      "Done training for 30 epochs, 1019 steps.\n",
      "INFO:tensorflow:Restoring parameters from ./DNN_model/models/model_1.ckpt\n",
      "Iteration: 1\n",
      "Testing done!\n",
      "Accuracy: 0.9747956395149231\n",
      "\n",
      "Running training 3 of 3 ...\n",
      "Unit of hidden layer: 128\n",
      "Shape of features: (128, 10360)\n",
      "Shape of label: (128,)\n",
      "Step 0: loss = 3.10; accuracy = 0.1172 (0.066 sec)\n",
      "Step 100: loss = 0.40; accuracy = 0.9609 (0.039 sec)\n",
      "Step 200: loss = 0.14; accuracy = 0.9531 (0.038 sec)\n",
      "Step 300: loss = 0.11; accuracy = 0.9922 (0.041 sec)\n",
      "Step 400: loss = 0.11; accuracy = 0.9688 (0.035 sec)\n",
      "Step 500: loss = 0.06; accuracy = 0.9922 (0.039 sec)\n",
      "Step 600: loss = 0.04; accuracy = 0.9766 (0.040 sec)\n",
      "Step 700: loss = 0.03; accuracy = 0.9766 (0.038 sec)\n",
      "Step 800: loss = 0.06; accuracy = 0.9922 (0.040 sec)\n",
      "Step 900: loss = 0.01; accuracy = 0.9922 (0.036 sec)\n",
      "Step 1000: loss = 0.04; accuracy = 0.9375 (0.039 sec)\n",
      "Done training for 30 epochs, 1019 steps.\n",
      "INFO:tensorflow:Restoring parameters from ./DNN_model/models/model_2.ckpt\n",
      "Iteration: 1\n",
      "Testing done!\n",
      "Accuracy: 0.9632152318954468\n",
      "Best accuracy is 0.9747956395149231\n",
      "Best hidden units are 64\n"
     ]
    }
   ],
   "source": [
    "trainfile = DATA_TRAIN_DEV_TEST + 'train1.tfrecords'\n",
    "testfile = DATA_TRAIN_DEV_TEST + 'dev.tfrecords'\n",
    "units = [32, 64, 128]\n",
    "sample_size = 1468\n",
    "model_dir = MODELS + 'models/'\n",
    "best_model_dir = MODELS + 'best_model/'\n",
    "\n",
    "run_model_selection(trainfile, testfile, units, sample_size, model_dir, best_model_dir)"
   ]
  },
  {
   "cell_type": "markdown",
   "metadata": {},
   "source": [
    "<p align=\"center\">\n",
    "  <img src=\"../figures/model.jpg\" width=\"600\">\n",
    "</p>"
   ]
  },
  {
   "cell_type": "markdown",
   "metadata": {},
   "source": [
    "### 3.5 Evaluate DNN model"
   ]
  },
  {
   "cell_type": "markdown",
   "metadata": {},
   "source": [
    "#### 3.5.1 Cross validation (10x)"
   ]
  },
  {
   "cell_type": "code",
   "execution_count": 90,
   "metadata": {},
   "outputs": [
    {
     "name": "stdout",
     "output_type": "stream",
     "text": [
      "\n",
      "\n",
      "Running fold 1 of 10 ...\n",
      "./data/CV/train_0.tfrecords\n",
      "./data/CV/test_0.tfrecords\n",
      "./DNN_model/cv_model2/model_0.ckpt\n",
      "Shape of features: (128, 10360)\n",
      "Shape of label: (128,)\n",
      "Step 0: loss = 3.17; accuracy = 0.0547 (0.061 sec)\n",
      "Step 100: loss = 0.31; accuracy = 0.9531 (0.033 sec)\n",
      "Step 200: loss = 0.25; accuracy = 0.9609 (0.031 sec)\n",
      "Step 300: loss = 0.11; accuracy = 0.9922 (0.030 sec)\n",
      "Step 400: loss = 0.08; accuracy = 0.9688 (0.034 sec)\n",
      "Step 500: loss = 0.06; accuracy = 0.9844 (0.034 sec)\n",
      "Step 600: loss = 0.06; accuracy = 0.9844 (0.032 sec)\n",
      "Step 700: loss = 0.06; accuracy = 0.9922 (0.034 sec)\n",
      "Step 800: loss = 0.05; accuracy = 1.0000 (0.034 sec)\n",
      "Step 900: loss = 0.03; accuracy = 0.9922 (0.032 sec)\n",
      "Done training for 30 epochs, 915 steps.\n",
      "INFO:tensorflow:Restoring parameters from ./DNN_model/cv_model2/model_0.ckpt\n",
      "Iteration: 1\n",
      "Testing done!\n",
      "Accuracy: 0.9512761235237122\n",
      "\n",
      "\n",
      "Running fold 2 of 10 ...\n",
      "./data/CV/train_1.tfrecords\n",
      "./data/CV/test_1.tfrecords\n",
      "./DNN_model/cv_model2/model_1.ckpt\n",
      "Shape of features: (128, 10360)\n",
      "Shape of label: (128,)\n",
      "Step 0: loss = 3.16; accuracy = 0.0547 (0.061 sec)\n",
      "Step 100: loss = 0.28; accuracy = 0.9688 (0.035 sec)\n",
      "Step 200: loss = 0.25; accuracy = 0.9609 (0.031 sec)\n",
      "Step 300: loss = 0.12; accuracy = 0.9844 (0.032 sec)\n",
      "Step 400: loss = 0.08; accuracy = 0.9844 (0.030 sec)\n",
      "Step 500: loss = 0.09; accuracy = 0.9766 (0.032 sec)\n",
      "Step 600: loss = 0.03; accuracy = 0.9922 (0.033 sec)\n",
      "Step 700: loss = 0.04; accuracy = 0.9844 (0.031 sec)\n",
      "Step 800: loss = 0.08; accuracy = 1.0000 (0.033 sec)\n",
      "Step 900: loss = 0.16; accuracy = 0.9688 (0.033 sec)\n",
      "Done training for 30 epochs, 916 steps.\n",
      "INFO:tensorflow:Restoring parameters from ./DNN_model/cv_model2/model_1.ckpt\n",
      "Iteration: 1\n",
      "Testing done!\n",
      "Accuracy: 0.9489558935165405\n",
      "\n",
      "\n",
      "Running fold 3 of 10 ...\n",
      "./data/CV/train_2.tfrecords\n",
      "./data/CV/test_2.tfrecords\n",
      "./DNN_model/cv_model2/model_2.ckpt\n",
      "Shape of features: (128, 10360)\n",
      "Shape of label: (128,)\n",
      "Step 0: loss = 3.18; accuracy = 0.0625 (0.057 sec)\n",
      "Step 100: loss = 0.36; accuracy = 0.9219 (0.030 sec)\n",
      "Step 200: loss = 0.28; accuracy = 0.9609 (0.033 sec)\n",
      "Step 300: loss = 0.13; accuracy = 0.9922 (0.033 sec)\n",
      "Step 400: loss = 0.11; accuracy = 0.9766 (0.032 sec)\n",
      "Step 500: loss = 0.10; accuracy = 0.9844 (0.031 sec)\n",
      "Step 600: loss = 0.02; accuracy = 0.9922 (0.031 sec)\n",
      "Step 700: loss = 0.25; accuracy = 0.9609 (0.032 sec)\n",
      "Step 800: loss = 0.02; accuracy = 1.0000 (0.033 sec)\n",
      "Step 900: loss = 0.15; accuracy = 1.0000 (0.033 sec)\n",
      "Done training for 30 epochs, 916 steps.\n",
      "INFO:tensorflow:Restoring parameters from ./DNN_model/cv_model2/model_2.ckpt\n",
      "Iteration: 1\n",
      "Testing done!\n",
      "Accuracy: 0.9559164643287659\n",
      "\n",
      "\n",
      "Running fold 4 of 10 ...\n",
      "./data/CV/train_3.tfrecords\n",
      "./data/CV/test_3.tfrecords\n",
      "./DNN_model/cv_model2/model_3.ckpt\n",
      "Shape of features: (128, 10360)\n",
      "Shape of label: (128,)\n",
      "Step 0: loss = 3.20; accuracy = 0.0703 (0.057 sec)\n",
      "Step 100: loss = 0.43; accuracy = 0.9141 (0.030 sec)\n",
      "Step 200: loss = 0.34; accuracy = 0.9531 (0.030 sec)\n",
      "Step 300: loss = 0.15; accuracy = 0.9688 (0.032 sec)\n",
      "Step 400: loss = 0.15; accuracy = 0.9375 (0.030 sec)\n",
      "Step 500: loss = 0.06; accuracy = 0.9922 (0.031 sec)\n",
      "Step 600: loss = 0.02; accuracy = 0.9688 (0.031 sec)\n",
      "Step 700: loss = 0.04; accuracy = 0.9844 (0.032 sec)\n",
      "Step 800: loss = 0.05; accuracy = 0.9922 (0.032 sec)\n",
      "Step 900: loss = 0.11; accuracy = 0.9922 (0.031 sec)\n",
      "Done training for 30 epochs, 917 steps.\n",
      "INFO:tensorflow:Restoring parameters from ./DNN_model/cv_model2/model_3.ckpt\n",
      "Iteration: 1\n",
      "Testing done!\n",
      "Accuracy: 0.9466357231140137\n",
      "\n",
      "\n",
      "Running fold 5 of 10 ...\n",
      "./data/CV/train_4.tfrecords\n",
      "./data/CV/test_4.tfrecords\n",
      "./DNN_model/cv_model2/model_4.ckpt\n",
      "Shape of features: (128, 10360)\n",
      "Shape of label: (128,)\n",
      "Step 0: loss = 3.18; accuracy = 0.0469 (0.057 sec)\n",
      "Step 100: loss = 0.41; accuracy = 0.9297 (0.031 sec)\n",
      "Step 200: loss = 0.24; accuracy = 0.9375 (0.032 sec)\n",
      "Step 300: loss = 0.17; accuracy = 0.9844 (0.032 sec)\n",
      "Step 400: loss = 0.10; accuracy = 0.9609 (0.032 sec)\n",
      "Step 500: loss = 0.09; accuracy = 0.9766 (0.033 sec)\n",
      "Step 600: loss = 0.05; accuracy = 0.9609 (0.034 sec)\n",
      "Step 700: loss = 0.03; accuracy = 0.9844 (0.034 sec)\n",
      "Step 800: loss = 0.05; accuracy = 1.0000 (0.032 sec)\n",
      "Step 900: loss = 0.02; accuracy = 0.9922 (0.033 sec)\n",
      "Done training for 30 epochs, 917 steps.\n",
      "INFO:tensorflow:Restoring parameters from ./DNN_model/cv_model2/model_4.ckpt\n",
      "Iteration: 1\n",
      "Testing done!\n",
      "Accuracy: 0.9651972055435181\n",
      "\n",
      "\n",
      "Running fold 6 of 10 ...\n",
      "./data/CV/train_5.tfrecords\n",
      "./data/CV/test_5.tfrecords\n",
      "./DNN_model/cv_model2/model_5.ckpt\n",
      "Shape of features: (128, 10360)\n",
      "Shape of label: (128,)\n",
      "Step 0: loss = 3.18; accuracy = 0.0547 (0.060 sec)\n",
      "Step 100: loss = 0.34; accuracy = 0.9219 (0.032 sec)\n",
      "Step 200: loss = 0.16; accuracy = 0.9766 (0.032 sec)\n",
      "Step 300: loss = 0.24; accuracy = 1.0000 (0.034 sec)\n",
      "Step 400: loss = 0.12; accuracy = 0.9844 (0.037 sec)\n",
      "Step 500: loss = 0.08; accuracy = 0.9766 (0.036 sec)\n",
      "Step 600: loss = 0.06; accuracy = 0.9844 (0.033 sec)\n",
      "Step 700: loss = 0.04; accuracy = 0.9844 (0.034 sec)\n",
      "Step 800: loss = 0.05; accuracy = 1.0000 (0.033 sec)\n",
      "Step 900: loss = 0.14; accuracy = 1.0000 (0.033 sec)\n",
      "Done training for 30 epochs, 917 steps.\n",
      "INFO:tensorflow:Restoring parameters from ./DNN_model/cv_model2/model_5.ckpt\n",
      "Iteration: 1\n",
      "Testing done!\n",
      "Accuracy: 0.9651972055435181\n",
      "\n",
      "\n",
      "Running fold 7 of 10 ...\n",
      "./data/CV/train_6.tfrecords\n",
      "./data/CV/test_6.tfrecords\n",
      "./DNN_model/cv_model2/model_6.ckpt\n",
      "Shape of features: (128, 10360)\n",
      "Shape of label: (128,)\n",
      "Step 0: loss = 3.16; accuracy = 0.0625 (0.058 sec)\n",
      "Step 100: loss = 0.32; accuracy = 0.9375 (0.032 sec)\n",
      "Step 200: loss = 0.23; accuracy = 0.9766 (0.033 sec)\n",
      "Step 300: loss = 0.18; accuracy = 0.9844 (0.035 sec)\n",
      "Step 400: loss = 0.18; accuracy = 0.9531 (0.033 sec)\n",
      "Step 500: loss = 0.04; accuracy = 1.0000 (0.044 sec)\n",
      "Step 600: loss = 0.05; accuracy = 1.0000 (0.042 sec)\n",
      "Step 700: loss = 0.01; accuracy = 0.9922 (0.039 sec)\n",
      "Step 800: loss = 0.05; accuracy = 1.0000 (0.042 sec)\n",
      "Step 900: loss = 0.04; accuracy = 0.9922 (0.039 sec)\n",
      "Done training for 30 epochs, 918 steps.\n",
      "INFO:tensorflow:Restoring parameters from ./DNN_model/cv_model2/model_6.ckpt\n",
      "Iteration: 1\n",
      "Testing done!\n",
      "Accuracy: 0.9559164643287659\n",
      "\n",
      "\n",
      "Running fold 8 of 10 ...\n",
      "./data/CV/train_7.tfrecords\n",
      "./data/CV/test_7.tfrecords\n",
      "./DNN_model/cv_model2/model_7.ckpt\n",
      "Shape of features: (128, 10360)\n",
      "Shape of label: (128,)\n",
      "Step 0: loss = 3.17; accuracy = 0.0547 (0.066 sec)\n",
      "Step 100: loss = 0.31; accuracy = 0.9531 (0.037 sec)\n",
      "Step 200: loss = 0.26; accuracy = 0.9531 (0.036 sec)\n",
      "Step 300: loss = 0.14; accuracy = 0.9844 (0.040 sec)\n",
      "Step 400: loss = 0.15; accuracy = 0.9766 (0.040 sec)\n",
      "Step 500: loss = 0.04; accuracy = 0.9766 (0.037 sec)\n",
      "Step 600: loss = 0.06; accuracy = 1.0000 (0.038 sec)\n",
      "Step 700: loss = 0.02; accuracy = 0.9844 (0.039 sec)\n",
      "Step 800: loss = 0.03; accuracy = 1.0000 (0.038 sec)\n",
      "Step 900: loss = 0.05; accuracy = 1.0000 (0.037 sec)\n",
      "Done training for 30 epochs, 918 steps.\n",
      "INFO:tensorflow:Restoring parameters from ./DNN_model/cv_model2/model_7.ckpt\n",
      "Iteration: 1\n",
      "Testing done!\n",
      "Accuracy: 0.94199538230896\n",
      "\n",
      "\n",
      "Running fold 9 of 10 ...\n",
      "./data/CV/train_8.tfrecords\n",
      "./data/CV/test_8.tfrecords\n",
      "./DNN_model/cv_model2/model_8.ckpt\n",
      "Shape of features: (128, 10360)\n",
      "Shape of label: (128,)\n",
      "Step 0: loss = 3.19; accuracy = 0.0703 (0.074 sec)\n",
      "Step 100: loss = 0.41; accuracy = 0.8906 (0.043 sec)\n",
      "Step 200: loss = 0.32; accuracy = 0.9375 (0.042 sec)\n",
      "Step 300: loss = 0.14; accuracy = 0.9609 (0.039 sec)\n",
      "Step 400: loss = 0.08; accuracy = 0.9766 (0.039 sec)\n",
      "Step 500: loss = 0.04; accuracy = 0.9922 (0.041 sec)\n",
      "Step 600: loss = 0.12; accuracy = 0.9688 (0.040 sec)\n",
      "Step 700: loss = 0.04; accuracy = 1.0000 (0.039 sec)\n",
      "Step 800: loss = 0.04; accuracy = 1.0000 (0.038 sec)\n",
      "Step 900: loss = 0.07; accuracy = 1.0000 (0.041 sec)\n",
      "Done training for 30 epochs, 919 steps.\n",
      "INFO:tensorflow:Restoring parameters from ./DNN_model/cv_model2/model_8.ckpt\n",
      "Iteration: 1\n",
      "Testing done!\n",
      "Accuracy: 0.9512761235237122\n",
      "\n",
      "\n",
      "Running fold 10 of 10 ...\n",
      "./data/CV/train_9.tfrecords\n",
      "./data/CV/test_9.tfrecords\n",
      "./DNN_model/cv_model2/model_9.ckpt\n",
      "Shape of features: (128, 10360)\n",
      "Shape of label: (128,)\n",
      "Step 0: loss = 3.18; accuracy = 0.0547 (0.072 sec)\n",
      "Step 100: loss = 0.32; accuracy = 0.9297 (0.036 sec)\n",
      "Step 200: loss = 0.21; accuracy = 0.9531 (0.035 sec)\n",
      "Step 300: loss = 0.10; accuracy = 0.9688 (0.037 sec)\n"
     ]
    },
    {
     "name": "stdout",
     "output_type": "stream",
     "text": [
      "Step 400: loss = 0.06; accuracy = 0.9688 (0.043 sec)\n",
      "Step 500: loss = 0.08; accuracy = 0.9453 (0.039 sec)\n",
      "Step 600: loss = 0.10; accuracy = 0.9766 (0.038 sec)\n",
      "Step 700: loss = 0.07; accuracy = 1.0000 (0.037 sec)\n",
      "Step 800: loss = 0.07; accuracy = 0.9688 (0.034 sec)\n",
      "Step 900: loss = 0.01; accuracy = 0.9922 (0.036 sec)\n",
      "Done training for 30 epochs, 919 steps.\n",
      "INFO:tensorflow:Restoring parameters from ./DNN_model/cv_model2/model_9.ckpt\n",
      "Iteration: 1\n",
      "Testing done!\n",
      "Accuracy: 0.9512761235237122\n",
      "                                  0         1         2         3         4  \\\n",
      "Specificity                0.997107  0.996913  0.997367  0.996875  0.997916   \n",
      "Sensitivity                0.928515  0.917158  0.936241  0.934899  0.932885   \n",
      "Postive_predictive_value   0.962885  0.967006  0.949338  0.933109  0.976234   \n",
      "Negative_predictive_value  0.997155  0.997059  0.997420  0.996890  0.998031   \n",
      "Accuracy                   0.951276  0.948956  0.955916  0.946636  0.965197   \n",
      "\n",
      "                                  5         6         7         8         9  \n",
      "Specificity                0.997926  0.997368  0.996556  0.997101  0.997138  \n",
      "Sensitivity                0.936995  0.930382  0.915455  0.917324  0.910347  \n",
      "Postive_predictive_value   0.969983  0.945929  0.924860  0.927635  0.952345  \n",
      "Negative_predictive_value  0.998003  0.997445  0.996609  0.997194  0.997187  \n",
      "Accuracy                   0.965197  0.955916  0.941995  0.951276  0.951276  \n",
      "                             Mean     Std  CI_low   CI_up\n",
      "Specificity                0.9972  0.0001  0.9969  0.9975\n",
      "Sensitivity                0.9260  0.0031  0.9189  0.9331\n",
      "Postive_predictive_value   0.9509  0.0057  0.9379  0.9639\n",
      "Negative_predictive_value  0.9973  0.0001  0.9970  0.9976\n",
      "Accuracy                   0.9534  0.0024  0.9480  0.9587\n"
     ]
    }
   ],
   "source": [
    "CVData_dir = DATA_CV\n",
    "CVModel_dir = MODELS + 'cv_model2/'\n",
    "n_fold = 10\n",
    "sample_size = 431\n",
    "units = 64\n",
    "codesfile = DATA_TRAIN_DEV_TEST + 'code.csv'\n",
    "results_dir = RESULTS + 'CV/'\n",
    "\n",
    "SSPN, SSPN_stat = ModelEval.cross_validation(CVData_dir, CVModel_dir, n_fold, sample_size, units, codesfile)\n",
    "print(SSPN)\n",
    "print(SSPN_stat)\n",
    "SSPN.to_csv(results_dir + 'sspn.csv')\n",
    "SSPN_stat.to_csv(results_dir + 'sspn_stat.csv')"
   ]
  },
  {
   "cell_type": "markdown",
   "metadata": {},
   "source": [
    "#### 3.5.2 Test set from TCGA\n",
    "##### 3.5.2.1 Get prediction results"
   ]
  },
  {
   "cell_type": "code",
   "execution_count": 29,
   "metadata": {
    "scrolled": true
   },
   "outputs": [
    {
     "name": "stdout",
     "output_type": "stream",
     "text": [
      "../data/train_dev_test/test1.tfrecords\n",
      "../DNN_model/best_model/model_0.ckpt\n",
      "INFO:tensorflow:Restoring parameters from ../DNN_model/best_model/model_0.ckpt\n",
      "Iteration: 1\n",
      "Testing done!\n",
      "Accuracy: 0.971389651298523\n"
     ]
    }
   ],
   "source": [
    "testfile = DATA_TRAIN_DEV_TEST + 'test1.tfrecords'\n",
    "testmetafile = DATA_TRAIN_DEV_TEST + 'test1_meta.csv'\n",
    "sample_size = 1468\n",
    "units = 64\n",
    "modelfile = MODELS + 'best_model/model_0.ckpt'\n",
    "codesfile = DATA_TRAIN_DEV_TEST + 'code.csv'\n",
    "results_dir = RESULTS + 'test2/'\n",
    "\n",
    "# precision, recall, average_precision, SSPN, cm, acc, preds = \\\n",
    "#     cancer_origin_DNN.run_testing(testfile, testmetafile, units, modelfile, sample_size, codesfile)\n",
    "\n",
    "accuracy, precision, recall, average_precision_ser, cm_df, SSPN_df, pred_df, fprs, tprs, aucs, tprs_overall = \\\n",
    "ModelEval.testeval(testfile, testmetafile, sample_size, units, modelfile, codesfile)"
   ]
  },
  {
   "cell_type": "markdown",
   "metadata": {},
   "source": [
    "##### 3.5.2.2  Display evaluation metrics"
   ]
  },
  {
   "cell_type": "code",
   "execution_count": 30,
   "metadata": {},
   "outputs": [
    {
     "name": "stdout",
     "output_type": "stream",
     "text": [
      "\n",
      "Accuracy: 0.9714000225067139\n",
      "\n",
      "Confusion matrix:\n",
      "               Adrenal Gland  Bladder  Brain  Breast  Colorectal  Esophagus  \\\n",
      "Adrenal Gland             46        0      0       0           0          0   \n",
      "Bladder                    0       81      0       0           0          1   \n",
      "Brain                      0        0    128       0           0          0   \n",
      "Breast                     0        0      0     155           0          0   \n",
      "Colorectal                 0        0      0       0          71          0   \n",
      "Esophagus                  0        1      0       0           0         25   \n",
      "Head and Neck              0        0      0       1           0          7   \n",
      "Kidney                     0        0      0       0           0          0   \n",
      "Liver                      0        0      0       0           0          0   \n",
      "Lung                       0        0      0       1           0          1   \n",
      "Pancreas                   0        0      0       0           0          0   \n",
      "Prostate                   0        0      0       0           0          0   \n",
      "Skin                       0        0      0       0           0          0   \n",
      "Soft Tissue                1        0      0       0           0          0   \n",
      "Stomach                    0        0      0       0           0          4   \n",
      "Testis                     0        0      0       0           0          0   \n",
      "Thymus                     0        1      0       1           0          0   \n",
      "Thyroid                    0        0      0       0           0          0   \n",
      "\n",
      "               Head and Neck  Kidney  Liver  Lung  Pancreas  Prostate  Skin  \\\n",
      "Adrenal Gland              0       0      0     0         1         0     0   \n",
      "Bladder                    0       0      0     0         0         0     0   \n",
      "Brain                      0       0      0     0         0         0     0   \n",
      "Breast                     0       0      0     0         0         0     0   \n",
      "Colorectal                 0       0      0     0         0         0     0   \n",
      "Esophagus                  3       0      0     0         0         0     0   \n",
      "Head and Neck            101       1      0     1         0         0     0   \n",
      "Kidney                     0     133      0     0         0         0     0   \n",
      "Liver                      0       0     66     0         0         0     0   \n",
      "Lung                       1       0      1   187         1         0     0   \n",
      "Pancreas                   0       0      0     0        33         0     0   \n",
      "Prostate                   0       0      0     0         0        95     0   \n",
      "Skin                       0       0      0     0         0         0    23   \n",
      "Soft Tissue                0       0      0     0         0         0     0   \n",
      "Stomach                    0       0      0     0         1         0     0   \n",
      "Testis                     0       0      0     0         0         0     0   \n",
      "Thymus                     0       0      0     1         0         0     0   \n",
      "Thyroid                    0       0      0     0         0         0     0   \n",
      "\n",
      "               Soft Tissue  Stomach  Testis  Thymus  Thyroid  \n",
      "Adrenal Gland            0        0       0       0        0  \n",
      "Bladder                  0        0       0       0        0  \n",
      "Brain                    0        0       0       0        0  \n",
      "Breast                   0        0       0       0        0  \n",
      "Colorectal               0        1       0       0        0  \n",
      "Esophagus                0       10       0       0        0  \n",
      "Head and Neck            0        0       0       0        0  \n",
      "Kidney                   0        0       0       0        0  \n",
      "Liver                    1        0       0       0        0  \n",
      "Lung                     0        0       0       0        0  \n",
      "Pancreas                 0        0       0       0        0  \n",
      "Prostate                 0        0       0       0        0  \n",
      "Skin                     0        0       0       0        0  \n",
      "Soft Tissue             56        0       0       0        0  \n",
      "Stomach                  0       75       0       0        0  \n",
      "Testis                   0        0      29       0        0  \n",
      "Thymus                   0        0       0      24        0  \n",
      "Thyroid                  0        0       0       0       98  \n",
      "\n",
      "Average precision:\n",
      "Adrenal Gland    0.988432\n",
      "Bladder          0.998674\n",
      "Brain            1.000000\n",
      "Breast           0.996024\n",
      "Colorectal       1.000000\n",
      "Esophagus        0.685015\n",
      "Head and Neck    0.978744\n",
      "Kidney           1.000000\n",
      "Liver            0.997895\n",
      "Lung             0.997641\n",
      "Pancreas         0.996403\n",
      "Prostate         1.000000\n",
      "Skin             1.000000\n",
      "Soft Tissue      0.999390\n",
      "Stomach          0.956645\n",
      "Testis           1.000000\n",
      "Thymus           1.000000\n",
      "Thyroid          1.000000\n",
      "Overall          0.993560\n",
      "dtype: float64\n",
      "\n",
      " SSPN:\n",
      "                Specificity  Sensitivity       PPV       NPV\n",
      "Adrenal Gland     0.999296     0.978723  0.978723  0.999296\n",
      "Bladder           0.998557     0.987805  0.975904  0.999278\n",
      "Brain             1.000000     1.000000  1.000000  1.000000\n",
      "Breast            0.997715     1.000000  0.981013  1.000000\n",
      "Colorectal        1.000000     0.986111  1.000000  0.999284\n",
      "Esophagus         0.990903     0.641026  0.657895  0.990210\n",
      "Head and Neck     0.997052     0.909910  0.961905  0.992663\n",
      "Kidney            0.999251     1.000000  0.992537  1.000000\n",
      "Liver             0.999286     0.985075  0.985075  0.999286\n",
      "Lung              0.998433     0.973958  0.989418  0.996091\n",
      "Pancreas          0.997909     1.000000  0.916667  1.000000\n",
      "Prostate          1.000000     1.000000  1.000000  1.000000\n",
      "Skin              1.000000     1.000000  1.000000  1.000000\n",
      "Soft Tissue       0.999291     0.982456  0.982456  0.999291\n",
      "Stomach           0.992075     0.937500  0.872093  0.996382\n",
      "Testis            1.000000     1.000000  1.000000  1.000000\n",
      "Thymus            1.000000     0.888889  1.000000  0.997922\n",
      "Thyroid           1.000000     1.000000  1.000000  1.000000\n",
      "Overall           0.998320     0.959525  0.960760  0.998317\n"
     ]
    }
   ],
   "source": [
    "print(\"\\nAccuracy: {}\".format(round(accuracy,4)))\n",
    "print(\"\\nConfusion matrix:\")\n",
    "print(cm_df)\n",
    "print(\"\\nAverage precision:\")\n",
    "print(average_precision_ser)\n",
    "print(\"\\n SSPN:\\n {}\".format(SSPN_df))"
   ]
  },
  {
   "cell_type": "markdown",
   "metadata": {},
   "source": [
    "##### 3.5.2.3 Plot ROC curve"
   ]
  },
  {
   "cell_type": "code",
   "execution_count": 31,
   "metadata": {
    "scrolled": true
   },
   "outputs": [
    {
     "data": {
      "image/png": "[encoded data removed]",
      "text/plain": [
       "<matplotlib.figure.Figure at 0x1c1e053780>"
      ]
     },
     "metadata": {
      "needs_background": "light"
     },
     "output_type": "display_data"
    }
   ],
   "source": [
    "origins = list(average_precision_ser.index)\n",
    "roc_fname = FIGURE + 'auc_test.png'\n",
    "plot_auc(origins, fprs, tprs, aucs, tprs_overall, codesfile, True, roc_fname)\n"
   ]
  },
  {
   "cell_type": "markdown",
   "metadata": {},
   "source": [
    "##### 3.5.2.4 Save results to files (don't run)"
   ]
  },
  {
   "cell_type": "code",
   "execution_count": 32,
   "metadata": {},
   "outputs": [],
   "source": [
    "# save results to files \n",
    "# pd.Series(accuracy, index=['accuracy']).to_csv(results_dir + \"accuracy.txt\", sep=\"\\n\")\n",
    "# cm_df.to_csv(results_dir + \"confusion_matrix.csv\")\n",
    "# SSPN_df.to_csv(results_dir + \"sspn.csv\")\n",
    "# average_precision_ser.to_csv(results_dir + \"average_precision.csv\")\n",
    "# pred_df.to_csv(results_dir + \"pred_results.csv\", sep=\",\")"
   ]
  },
  {
   "cell_type": "markdown",
   "metadata": {},
   "source": [
    "#### 3.5.3 Metastatic data from TCGA"
   ]
  },
  {
   "cell_type": "markdown",
   "metadata": {},
   "source": [
    "##### 3.5.3.1 Get prediction results"
   ]
  },
  {
   "cell_type": "code",
   "execution_count": 33,
   "metadata": {
    "scrolled": true
   },
   "outputs": [
    {
     "name": "stdout",
     "output_type": "stream",
     "text": [
      "../data/metastatic/metastatic_data1.tfrecords\n",
      "../DNN_model/best_model/model_0.ckpt\n",
      "INFO:tensorflow:Restoring parameters from ../DNN_model/best_model/model_0.ckpt\n",
      "Iteration: 1\n",
      "Testing done!\n",
      "Accuracy: 0.9370629191398621\n"
     ]
    }
   ],
   "source": [
    "testfile = DATA_METASTATIC + 'metastatic_data1.tfrecords'\n",
    "testmetafile = DATA_METASTATIC + 'metastatic_data1_meta.csv'\n",
    "sample_size = 143\n",
    "units = 64\n",
    "modelfile = MODELS + 'best_model/model_0.ckpt'\n",
    "codesfile = DATA_TRAIN_DEV_TEST + 'code.csv'\n",
    "results_dir = RESULTS + 'metastatic/'\n",
    "\n",
    "# precision, recall, average_precision, SSPN, cm, acc, preds = \\\n",
    "#     cancer_origin_DNN.run_testing(testfile, testmetafile, units, modelfile, sample_size, codesfile)\n",
    "\n",
    "accuracy, precision, recall, average_precision_ser, cm_df, SSPN_df, pred_df, fprs, tprs, aucs, tprs_overall = \\\n",
    "ModelEval.testeval(testfile, testmetafile, sample_size, units, modelfile, codesfile)"
   ]
  },
  {
   "cell_type": "markdown",
   "metadata": {},
   "source": [
    "##### 3.5.3.2  Display evaluation metrics"
   ]
  },
  {
   "cell_type": "code",
   "execution_count": 34,
   "metadata": {},
   "outputs": [
    {
     "name": "stdout",
     "output_type": "stream",
     "text": [
      "\n",
      "Accuracy: 0.9370999932289124\n",
      "\n",
      "Confusion matrix:\n",
      "               Adrenal Gland  Bladder  Breast  Colorectal  Esophagus  \\\n",
      "Adrenal Gland              4        0       0           0          0   \n",
      "Bladder                    0       27       0           0          1   \n",
      "Breast                     0        0       3           0          0   \n",
      "Colorectal                 0        0       0           8          0   \n",
      "Esophagus                  0        0       0           0          2   \n",
      "Head and Neck              0        0       1           0          6   \n",
      "Kidney                     0        0       0           0          0   \n",
      "Liver                      0        0       0           0          0   \n",
      "Lung                       0        0       0           0          0   \n",
      "Pancreas                   0        0       0           0          0   \n",
      "Stomach                    0        0       0           0          0   \n",
      "Thyroid                    0        0       0           0          0   \n",
      "\n",
      "               Head and Neck  Kidney  Liver  Lung  Pancreas  Stomach  Thyroid  \n",
      "Adrenal Gland              0       0      0     0         0        0        0  \n",
      "Bladder                    0       0      0     0         0        0        0  \n",
      "Breast                     0       0      0     0         0        0        0  \n",
      "Colorectal                 0       0      0     0         0        0        0  \n",
      "Esophagus                  0       0      0     0         0        0        0  \n",
      "Head and Neck             53       0      0     0         0        0        0  \n",
      "Kidney                     0      16      0     0         0        0        0  \n",
      "Liver                      0       0      2     0         0        0        0  \n",
      "Lung                       0       0      1     2         0        0        0  \n",
      "Pancreas                   0       0      0     0         1        0        0  \n",
      "Stomach                    0       0      0     0         0        7        0  \n",
      "Thyroid                    0       0      0     0         0        0        9  \n",
      "\n",
      "Average precision:\n",
      "Adrenal Gland    1.000000\n",
      "Bladder          0.998768\n",
      "Breast           0.916667\n",
      "Colorectal       1.000000\n",
      "Esophagus        0.750000\n",
      "Head and Neck    0.991701\n",
      "Kidney           1.000000\n",
      "Liver            1.000000\n",
      "Lung             0.866667\n",
      "Pancreas         1.000000\n",
      "Stomach          1.000000\n",
      "Thyroid          1.000000\n",
      "Overall          0.976062\n",
      "dtype: float64\n",
      "\n",
      " SSPN:\n",
      "                Specificity  Sensitivity       PPV       NPV\n",
      "Adrenal Gland     1.000000     1.000000  1.000000  1.000000\n",
      "Bladder           1.000000     0.964286  1.000000  0.991379\n",
      "Breast            0.992857     1.000000  0.750000  1.000000\n",
      "Colorectal        1.000000     1.000000  1.000000  1.000000\n",
      "Esophagus         0.950355     1.000000  0.222222  1.000000\n",
      "Head and Neck     1.000000     0.883333  1.000000  0.922222\n",
      "Kidney            1.000000     1.000000  1.000000  1.000000\n",
      "Liver             0.992908     1.000000  0.666667  1.000000\n",
      "Lung              1.000000     0.666667  1.000000  0.992908\n",
      "Pancreas          1.000000     1.000000  1.000000  1.000000\n",
      "Stomach           1.000000     1.000000  1.000000  1.000000\n",
      "Thyroid           1.000000     1.000000  1.000000  1.000000\n",
      "Overall           0.994677     0.959524  0.886574  0.992209\n"
     ]
    }
   ],
   "source": [
    "# display metrics\n",
    "print(\"\\nAccuracy: {}\".format(round(accuracy,4)))\n",
    "print(\"\\nConfusion matrix:\")\n",
    "print(cm_df)\n",
    "print(\"\\nAverage precision:\")\n",
    "print(average_precision_ser)\n",
    "print(\"\\n SSPN:\\n {}\".format(SSPN_df))"
   ]
  },
  {
   "cell_type": "markdown",
   "metadata": {},
   "source": [
    "##### 3.5.3.3 Plot ROC curve"
   ]
  },
  {
   "cell_type": "code",
   "execution_count": 35,
   "metadata": {
    "scrolled": true
   },
   "outputs": [
    {
     "data": {
      "image/png": "[encoded data removed]",
      "text/plain": [
       "<matplotlib.figure.Figure at 0x1c1c89c8d0>"
      ]
     },
     "metadata": {
      "needs_background": "light"
     },
     "output_type": "display_data"
    }
   ],
   "source": [
    "# plot ROC curve\n",
    "origins = list(average_precision_ser.index)\n",
    "roc_fname = FIGURE + 'auc_meta.png'\n",
    "plot_auc(origins, fprs, tprs, aucs, tprs_overall, codesfile, True, roc_fname)"
   ]
  },
  {
   "cell_type": "markdown",
   "metadata": {},
   "source": [
    "##### 3.5.3.4 Save results to files (don't run)"
   ]
  },
  {
   "cell_type": "code",
   "execution_count": 36,
   "metadata": {},
   "outputs": [],
   "source": [
    "# save results to files\n",
    "# pd.Series(accuracy, index=['accuracy']).to_csv(results_dir + \"accuracy.txt\", sep=\"\\n\")\n",
    "# cm_df.to_csv(results_dir + \"confusion_matrix.csv\")\n",
    "# SSPN_df.to_csv(results_dir + \"sspn.csv\")\n",
    "# average_precision_ser.to_csv(results_dir + \"average_precision.csv\")\n",
    "# pred_df.to_csv(results_dir + \"pred_results.csv\", sep=\",\")"
   ]
  },
  {
   "cell_type": "markdown",
   "metadata": {},
   "source": [
    "#### 3.5.4 Test data from GEO"
   ]
  },
  {
   "cell_type": "markdown",
   "metadata": {},
   "source": [
    "##### 3.5.4.1 Get prediction results"
   ]
  },
  {
   "cell_type": "code",
   "execution_count": 37,
   "metadata": {},
   "outputs": [
    {
     "name": "stdout",
     "output_type": "stream",
     "text": [
      "../data/GEO/GEO_combined_final.tfrecords\n",
      "../DNN_model//best_model/model_0.ckpt\n",
      "INFO:tensorflow:Restoring parameters from ../DNN_model//best_model/model_0.ckpt\n",
      "Iteration: 1\n",
      "Testing done!\n",
      "Accuracy: 0.9259896874427795\n"
     ]
    }
   ],
   "source": [
    "testfile = DATA_GEO + 'GEO_combined_final.tfrecords'\n",
    "testmetafile = DATA_GEO + 'GEO_combined_final_meta.csv'\n",
    "sample_size = 581\n",
    "units = 64\n",
    "modelfile = MODELS + '/best_model/model_0.ckpt'\n",
    "codesfile = DATA_TRAIN_DEV_TEST + 'code.csv'\n",
    "results_dir = RESULTS + 'GEO/'\n",
    "\n",
    "accuracy, precision, recall, average_precision_ser, cm_df, SSPN_df, pred_df, fprs, tprs, aucs, tprs_overall = \\\n",
    "ModelEval.testeval(testfile, testmetafile, sample_size, units, modelfile, codesfile)"
   ]
  },
  {
   "cell_type": "markdown",
   "metadata": {},
   "source": [
    "##### 3.5.4.2  Display evaluation metrics"
   ]
  },
  {
   "cell_type": "code",
   "execution_count": 38,
   "metadata": {},
   "outputs": [
    {
     "name": "stdout",
     "output_type": "stream",
     "text": [
      "\n",
      "Accuracy: 0.9259999990463257\n",
      "\n",
      "Confusion matrix:\n",
      "               Adrenal Gland  Bladder  Breast  Colorectal  Head and Neck  \\\n",
      "Adrenal Gland             14        0       0           0              0   \n",
      "Bladder                    0       25       0           0              0   \n",
      "Breast                     0        0      34           0              0   \n",
      "Colorectal                 0        0       1         108              0   \n",
      "Head and Neck              0        0       0           0              5   \n",
      "Kidney                     0        0       0           0              0   \n",
      "Liver                      0        0       0           0              0   \n",
      "Lung                       0        0       0           0              0   \n",
      "Pancreas                   0        0       0           0              0   \n",
      "Prostate                   0        0       0           0              0   \n",
      "Soft Tissue                0        0       0           0              0   \n",
      "Stomach                    0        0       0           0              0   \n",
      "Thyroid                    0        0       1           0              0   \n",
      "\n",
      "               Kidney  Liver  Lung  Pancreas  Prostate  Soft Tissue  Stomach  \\\n",
      "Adrenal Gland       0      0     2         0         0            2        0   \n",
      "Bladder             0      0     0         0         0            0        0   \n",
      "Breast              0      0     1         0         0            0        0   \n",
      "Colorectal          0      0     1         0         0            0        2   \n",
      "Head and Neck       0      0     1         0         0            0        0   \n",
      "Kidney             17      0     0         0         0            0        0   \n",
      "Liver               0     37     0         0         0            0        0   \n",
      "Lung                0      0     0         0         0            0        0   \n",
      "Pancreas            0      3     6       135         0            0       23   \n",
      "Prostate            0      0     0         0        82            0        0   \n",
      "Soft Tissue         0      0     0         0         0            0        0   \n",
      "Stomach             0      0     0         0         0            0        0   \n",
      "Thyroid             0      0     0         0         0            0        0   \n",
      "\n",
      "               Thyroid  \n",
      "Adrenal Gland        0  \n",
      "Bladder              0  \n",
      "Breast               0  \n",
      "Colorectal           0  \n",
      "Head and Neck        0  \n",
      "Kidney               0  \n",
      "Liver                0  \n",
      "Lung                 0  \n",
      "Pancreas             0  \n",
      "Prostate             0  \n",
      "Soft Tissue          0  \n",
      "Stomach              0  \n",
      "Thyroid             81  \n",
      "\n",
      "Average precision:\n",
      "Adrenal Gland    0.853540\n",
      "Bladder          1.000000\n",
      "Breast           0.996684\n",
      "Colorectal       0.988588\n",
      "Head and Neck    0.933333\n",
      "Kidney           1.000000\n",
      "Liver            1.000000\n",
      "Pancreas         0.996532\n",
      "Prostate         1.000000\n",
      "Thyroid          1.000000\n",
      "Overall          0.976466\n",
      "dtype: float64\n",
      "\n",
      " SSPN:\n",
      "                Specificity  Sensitivity       PPV       NPV\n",
      "Adrenal Gland     1.000000     0.777778  1.000000  0.992945\n",
      "Bladder           1.000000     1.000000  1.000000  1.000000\n",
      "Breast            0.996337     0.971429  0.944444  0.998165\n",
      "Colorectal        1.000000     0.964286  1.000000  0.991543\n",
      "Head and Neck     1.000000     0.833333  1.000000  0.998264\n",
      "Kidney            1.000000     1.000000  1.000000  1.000000\n",
      "Liver             0.994485     1.000000  0.925000  1.000000\n",
      "Pancreas          1.000000     0.808383  1.000000  0.928251\n",
      "Prostate          1.000000     1.000000  1.000000  1.000000\n",
      "Thyroid           1.000000     0.987805  1.000000  0.998000\n",
      "Overall           0.999082     0.934301  0.986944  0.990717\n"
     ]
    }
   ],
   "source": [
    "# display metrics\n",
    "print(\"\\nAccuracy: {}\".format(round(accuracy,4)))\n",
    "print(\"\\nConfusion matrix:\")\n",
    "print(cm_df)\n",
    "print(\"\\nAverage precision:\")\n",
    "print(average_precision_ser)\n",
    "print(\"\\n SSPN:\\n {}\".format(SSPN_df))"
   ]
  },
  {
   "cell_type": "markdown",
   "metadata": {},
   "source": [
    "##### 3.5.4.3 Plot ROC curve"
   ]
  },
  {
   "cell_type": "code",
   "execution_count": 39,
   "metadata": {
    "scrolled": true
   },
   "outputs": [
    {
     "data": {
      "image/png": "[encoded data removed]",
      "text/plain": [
       "<matplotlib.figure.Figure at 0x1130f22b0>"
      ]
     },
     "metadata": {
      "needs_background": "light"
     },
     "output_type": "display_data"
    }
   ],
   "source": [
    "# plot ROC curve\n",
    "origins = list(average_precision_ser.index)\n",
    "roc_fname = FIGURE + 'auc_geo.png'\n",
    "plot_auc(origins, fprs, tprs, aucs, tprs_overall, codesfile, True, roc_fname)"
   ]
  },
  {
   "cell_type": "markdown",
   "metadata": {},
   "source": [
    "##### 3.5.2.4 Save results to files (don't run)"
   ]
  },
  {
   "cell_type": "code",
   "execution_count": 28,
   "metadata": {},
   "outputs": [],
   "source": [
    "# save results to files\n",
    "# pd.Series(accuracy, index=['accuracy']).to_csv(results_dir + \"accuracy.txt\", sep=\"\\n\")\n",
    "# cm_df.to_csv(results_dir + \"confusion_matrix.csv\")\n",
    "# SSPN_df.to_csv(results_dir + \"sspn.csv\")\n",
    "# average_precision_ser.to_csv(results_dir + \"average_precision.csv\")\n",
    "# pred_df.to_csv(results_dir + \"pred_results.csv\", sep=\",\")"
   ]
  }
 ],
 "metadata": {
  "gist": {
   "data": {
    "description": "cancer_origin_doc.ipynb",
    "public": false
   },
   "id": ""
  },
  "kernelspec": {
   "display_name": "Python [conda env:tensorflow]",
   "language": "python",
   "name": "conda-env-tensorflow-py"
  },
  "language_info": {
   "codemirror_mode": {
    "name": "ipython",
    "version": 3
   },
   "file_extension": ".py",
   "mimetype": "text/x-python",
   "name": "python",
   "nbconvert_exporter": "python",
   "pygments_lexer": "ipython3",
   "version": "3.6.8"
  },
  "toc": {
   "base_numbering": "1",
   "nav_menu": {},
   "number_sections": false,
   "sideBar": true,
   "skip_h1_title": true,
   "title_cell": "Table of Contents",
   "title_sidebar": "Contents",
   "toc_cell": true,
   "toc_position": {
    "height": "calc(100% - 180px)",
    "left": "10px",
    "top": "150px",
    "width": "316px"
   },
   "toc_section_display": true,
   "toc_window_display": true
  }
 },
 "nbformat": 4,
 "nbformat_minor": 2
}
